{
 "cells": [
  {
   "cell_type": "markdown",
   "metadata": {},
   "source": [
    "# Singular Value Decomposition (SVD)\n",
    "\n",
    "Singular Value Decomposition (SVD) is a well-known matrix factorization technique in recommender systems theory, its practical application can be challenging, especially with very large and sparse datasets typical in real-world scenarios. This has led to the popularity of alternative methods like Alternating Least Squares (ALS).\n",
    "\n",
    "\n",
    "SVD decomposes a matrix into three separate matrices: U (user features), Σ (singular values), and V^T (item features). In the context of a recommender system like Goodreads:\n",
    "\n",
    "- The original matrix represents user ratings for books.\n",
    "- SVD decomposes this matrix into user and book feature matrices.\n",
    "- The singular values in Σ represent the strength of each latent feature.\n",
    "- By multiplying these matrices, we can approximate the original ratings matrix.\n",
    "- This approximation helps predict missing ratings, enabling recommendations."
   ]
  },
  {
   "cell_type": "code",
   "execution_count": 1,
   "metadata": {},
   "outputs": [],
   "source": [
    "import sys\n",
    "import os\n",
    "\n",
    "# Extending the system path to include the parent directory for module imports\n",
    "sys.path.append(os.path.dirname(os.getcwd()))\n",
    "\n",
    "import pandas as pd\n",
    "import seaborn as sns\n",
    "import matplotlib.pyplot as plt\n",
    "\n",
    "# Surprise library imports for implementing SVD and model evaluation\n",
    "from surprise import Dataset, Reader, SVD\n",
    "from surprise import SVD, Dataset, Reader\n",
    "from surprise.model_selection import cross_validate\n",
    "\n",
    "# Local utility functions for preprocessing and metrics\n",
    "from src.utils import preprocess, metrics\n",
    "\n",
    "# Setting up matplotlib for inline display in Jupyter notebooks\n",
    "%matplotlib inline\n",
    "\n",
    "# Suppressing warnings for a cleaner notebook presentation. Note: Pay attention to these in a development environment.\n",
    "import warnings\n",
    "warnings.simplefilter(\"ignore\")"
   ]
  },
  {
   "cell_type": "markdown",
   "metadata": {},
   "source": [
    "## Prepare data"
   ]
  },
  {
   "cell_type": "code",
   "execution_count": 2,
   "metadata": {},
   "outputs": [
    {
     "name": "stdout",
     "output_type": "stream",
     "text": [
      "Shape: (91226, 3)\n"
     ]
    },
    {
     "data": {
      "text/html": [
       "<div>\n",
       "<style scoped>\n",
       "    .dataframe tbody tr th:only-of-type {\n",
       "        vertical-align: middle;\n",
       "    }\n",
       "\n",
       "    .dataframe tbody tr th {\n",
       "        vertical-align: top;\n",
       "    }\n",
       "\n",
       "    .dataframe thead th {\n",
       "        text-align: right;\n",
       "    }\n",
       "</style>\n",
       "<table border=\"1\" class=\"dataframe\">\n",
       "  <thead>\n",
       "    <tr style=\"text-align: right;\">\n",
       "      <th></th>\n",
       "      <th>user_id</th>\n",
       "      <th>book_name</th>\n",
       "      <th>rating</th>\n",
       "    </tr>\n",
       "  </thead>\n",
       "  <tbody>\n",
       "    <tr>\n",
       "      <th>74505</th>\n",
       "      <td>2540</td>\n",
       "      <td>A Game of Thrones (A Song of Ice and Fire, #1)</td>\n",
       "      <td>4</td>\n",
       "    </tr>\n",
       "    <tr>\n",
       "      <th>60643</th>\n",
       "      <td>5886</td>\n",
       "      <td>The Amazing Adventures of Kavalier &amp; Clay</td>\n",
       "      <td>4</td>\n",
       "    </tr>\n",
       "    <tr>\n",
       "      <th>87603</th>\n",
       "      <td>4411</td>\n",
       "      <td>The World to Come</td>\n",
       "      <td>5</td>\n",
       "    </tr>\n",
       "    <tr>\n",
       "      <th>81524</th>\n",
       "      <td>4934</td>\n",
       "      <td>Harry Potter and the Philosopher's Stone (Harr...</td>\n",
       "      <td>5</td>\n",
       "    </tr>\n",
       "    <tr>\n",
       "      <th>60556</th>\n",
       "      <td>5791</td>\n",
       "      <td>Bloodsucking Fiends (A Love Story, #1)</td>\n",
       "      <td>3</td>\n",
       "    </tr>\n",
       "  </tbody>\n",
       "</table>\n",
       "</div>"
      ],
      "text/plain": [
       "       user_id                                          book_name  rating\n",
       "74505     2540     A Game of Thrones (A Song of Ice and Fire, #1)       4\n",
       "60643     5886          The Amazing Adventures of Kavalier & Clay       4\n",
       "87603     4411                                  The World to Come       5\n",
       "81524     4934  Harry Potter and the Philosopher's Stone (Harr...       5\n",
       "60556     5791             Bloodsucking Fiends (A Love Story, #1)       3"
      ]
     },
     "execution_count": 2,
     "metadata": {},
     "output_type": "execute_result"
    }
   ],
   "source": [
    "# Loading ratings data\n",
    "rating_file = os.path.join('..', 'src', 'data', 'goodreads_2m', 'ratings.csv')\n",
    "ratings = pd.read_csv(rating_file)\n",
    "\n",
    "# Displaying the shape of the dataset and a random sample of 5 entries\n",
    "print(f'Shape: {ratings.shape}')\n",
    "ratings.sample(5, random_state=123)"
   ]
  },
  {
   "cell_type": "code",
   "execution_count": 3,
   "metadata": {},
   "outputs": [
    {
     "data": {
      "image/png": "[encoded data removed]",
      "text/plain": [
       "<Figure size 800x300 with 1 Axes>"
      ]
     },
     "metadata": {},
     "output_type": "display_data"
    }
   ],
   "source": [
    "# Visualizing the distribution of the number of ratings per user\n",
    "users_count = ratings.groupby('user_id')['rating'].count().sort_values(ascending=False).reset_index()\n",
    "\n",
    "# Setting the size of the plot for better visibility\n",
    "plt.figure(figsize=(8, 3))\n",
    "\n",
    "# Creating a histogram to show the distribution\n",
    "fig = sns.histplot(users_count['rating'], binwidth=1, kde=False)\n",
    "fig.set_title('Distribution of Ratings per User')\n",
    "fig.set_xlabel('Number of Ratings')\n",
    "fig.set_ylabel('User Count')\n",
    "\n",
    "# Displaying the plot\n",
    "plt.show()\n"
   ]
  },
  {
   "cell_type": "markdown",
   "metadata": {},
   "source": [
    "## Data Split"
   ]
  },
  {
   "cell_type": "code",
   "execution_count": 4,
   "metadata": {},
   "outputs": [
    {
     "name": "stdout",
     "output_type": "stream",
     "text": [
      "Number of Reviews: 91226\n",
      "Number of Users: 1371\n",
      "Number of Books: 2720\n"
     ]
    }
   ],
   "source": [
    "# Displaying basic statistics of the dataset\n",
    "print(f'Number of Reviews: {len(ratings)}')\n",
    "print(f'Number of Users: {ratings.user_id.nunique()}')\n",
    "print(f'Number of Books: {ratings.book_name.nunique()}')"
   ]
  },
  {
   "cell_type": "markdown",
   "metadata": {},
   "source": [
    "For the train test splitting, we want to keep the same users in both datasets and so we use stratified splitting below"
   ]
  },
  {
   "cell_type": "code",
   "execution_count": 5,
   "metadata": {},
   "outputs": [
    {
     "name": "stdout",
     "output_type": "stream",
     "text": [
      "Train Shape: (68435, 3)\n",
      "Test Shape: (22791, 3)\n",
      "Do they have the same users?: True\n"
     ]
    }
   ],
   "source": [
    "# Stratified train-test split to maintain the same users in both sets\n",
    "train_size = 0.75\n",
    "train, test = preprocess.stratified_split(ratings, 'user_id', train_size)\n",
    "\n",
    "# Displaying the shape of train and test sets and checking user overlap\n",
    "print(f'Train Shape: {train.shape}')\n",
    "print(f'Test Shape: {test.shape}')\n",
    "print(f'Do they have the same users?: {set(train.user_id) == set(test.user_id)}')"
   ]
  },
  {
   "cell_type": "markdown",
   "metadata": {},
   "source": [
    "## SVD"
   ]
  },
  {
   "cell_type": "code",
   "execution_count": 6,
   "metadata": {},
   "outputs": [
    {
     "name": "stdout",
     "output_type": "stream",
     "text": [
      "Evaluating RMSE, MAE of algorithm SVD on 5 split(s).\n",
      "\n",
      "                  Fold 1  Fold 2  Fold 3  Fold 4  Fold 5  Mean    Std     \n",
      "RMSE (testset)    0.8782  0.8759  0.8779  0.8804  0.8670  0.8759  0.0047  \n",
      "MAE (testset)     0.6990  0.6963  0.6946  0.6991  0.6902  0.6958  0.0033  \n",
      "Fit time          0.20    0.20    0.19    0.22    0.21    0.20    0.01    \n",
      "Test time         0.05    0.03    0.03    0.03    0.03    0.04    0.01    \n",
      "Mean RMSE: 0.8758843761173013\n",
      "Mean MAE: 0.6958392264513296\n"
     ]
    },
    {
     "data": {
      "text/plain": [
       "<surprise.prediction_algorithms.matrix_factorization.SVD at 0x144a3aad0>"
      ]
     },
     "execution_count": 6,
     "metadata": {},
     "output_type": "execute_result"
    }
   ],
   "source": [
    "# Setting up the reader with rating scale based on the train set\n",
    "reader = Reader(rating_scale=(train['rating'].min(), train['rating'].max()))\n",
    "data = Dataset.load_from_df(train[['user_id', 'book_name', 'rating']], reader)  # Assuming 'book_name' should be 'book_id'\n",
    "\n",
    "# SVD model instantiation with specified hyperparameters\n",
    "svd = SVD(random_state=0, n_epochs=20, lr_all=0.005, n_factors=50, reg_all=0.05, verbose=False)\n",
    "\n",
    "# Performing 5-fold cross-validation to evaluate the model\n",
    "cross_validation_results = cross_validate(svd, data, measures=['RMSE', 'MAE'], cv=5, verbose=True)\n",
    "\n",
    "# Calculating and printing the mean RMSE and MAE\n",
    "mean_rmse = cross_validation_results['test_rmse'].mean()\n",
    "mean_mae = cross_validation_results['test_mae'].mean()\n",
    "print(f\"Mean RMSE: {mean_rmse}\")\n",
    "print(f\"Mean MAE: {mean_mae}\")\n",
    "\n",
    "# Fitting the SVD model on the entire train set\n",
    "surprise_train = data.build_full_trainset()\n",
    "svd.fit(surprise_train)"
   ]
  },
  {
   "cell_type": "markdown",
   "metadata": {},
   "source": [
    "## Recommend"
   ]
  },
  {
   "cell_type": "code",
   "execution_count": 7,
   "metadata": {},
   "outputs": [],
   "source": [
    "# Generating predictions for user-item pairs not in the training set and filtering out already rated items\n",
    "testset = surprise_train.build_anti_testset()\n",
    "predictions = svd.test(testset)\n",
    "\n",
    "# Converting predictions to DataFrame and filtering out seen items\n",
    "predictions_df = pd.DataFrame(predictions, columns=['user_id', 'book_name', 'actual', 'predicted', 'details'])\n",
    "seen_books = train[['user_id', 'book_name']].copy()\n",
    "seen_books['seen'] = True\n",
    "merged = pd.merge(seen_books, predictions_df, on=['user_id', 'book_name'], how=\"outer\")\n",
    "unseen_predictions = merged[merged['seen'].isnull()].drop(['seen', 'actual', 'details'], axis=1)\n",
    "all_preds = [unseen_predictions]"
   ]
  },
  {
   "cell_type": "code",
   "execution_count": 8,
   "metadata": {},
   "outputs": [],
   "source": [
    "# Extracting top k recommendations for each user\n",
    "top_k_recommendations = []\n",
    "top_k = 10  # Number of recommendations per user\n",
    "for predictions in all_preds:\n",
    "    predictions['rank'] = predictions.groupby('user_id')['predicted'].rank(method=\"first\", ascending=False)\n",
    "    top_recommendations = predictions[predictions['rank'] <= top_k]\n",
    "    top_k_recommendations.append(top_recommendations)"
   ]
  },
  {
   "cell_type": "markdown",
   "metadata": {},
   "source": [
    "## Evaluation Metrics\n",
    "\n",
    "The performance of our model is evaluated using the test set, which consists of the exact same users in the training set but with books the users have reviewed that the model has not seen before. A good model will recommend books that the user has also reviewed in the test set.\n",
    "\n",
    "---\n",
    "\n",
    "### Precision@k\n",
    "\n",
    "Out of the books that are recommended, what proportion is relevant. Relevant in this case is if the user has reviewed the book.\n",
    "\n",
    "A precision@10 of about 0.1 means that about 10% of the recommendations are relevant to the user. In other words, out of the 10 recommendations made, on average a user will have 1 book that is actually relevant.\n",
    "\n",
    "### Recall@k\n",
    "\n",
    "Out of all the relevant books (in the test set), how many are recommended.\n",
    "\n",
    "A recall@10 of 0.1 means that about 10% of the relevant books were recommended. By definition you can see how even if all the recommendations made were relevant, recall@k is capped by k. A higher k means that more relevant books can be recommended.\n",
    "\n",
    "### Mean Average Precision (MAP)\n",
    "\n",
    "Calculate the average precision for each user and average all the average precisions over all users. Penalizes incorrect rankings of books.\n",
    "\n",
    "### Normalized Discounted Cumulative Gain (NDGC)\n",
    "\n",
    "Looks at both relevant books and the ranking order of the relevant books. Normalized by the total number of users.\n",
    "\n",
    "---\n"
   ]
  },
  {
   "cell_type": "code",
   "execution_count": 9,
   "metadata": {},
   "outputs": [
    {
     "name": "stdout",
     "output_type": "stream",
     "text": [
      "------ svd -------\n",
      "Precision: 0.007586\n",
      "Recall: 0.004831\n",
      "MAP: 0.001789 \n",
      "NDCG: 0.008222\n",
      "\n"
     ]
    }
   ],
   "source": [
    "# Evaluating model performance with precision, recall, MAP, and NDCG metrics\n",
    "model_metrics = {'svd': {}}\n",
    "for recommendation in top_k_recommendations:\n",
    "    # Calculate metrics\n",
    "    precision_at_k = metrics.precision_at_k(recommendation, test, 'user_id', 'book_name', 'rank')\n",
    "    recall_at_k = metrics.recall_at_k(recommendation, test, 'user_id', 'book_name', 'rank')\n",
    "    map_score = metrics.mean_average_precision(recommendation, test, 'user_id', 'book_name', 'rank')\n",
    "    ndcg_score = metrics.ndcg(recommendation, test, 'user_id', 'book_name', 'rank')\n",
    "    \n",
    "    # Assigning calculated metrics to the model_metrics dictionary\n",
    "    model_metrics['svd'] = {\n",
    "        'precision': precision_at_k,\n",
    "        'recall': recall_at_k,\n",
    "        'MAP': map_score,\n",
    "        'NDCG': ndcg_score\n",
    "    }\n",
    "    \n",
    "for model, values in model_metrics.items():\n",
    "    print(f'------ {model} -------',\n",
    "          f'Precision: {values[\"precision\"]:.6f}',\n",
    "          f'Recall: {values[\"recall\"]:.6f}',\n",
    "          f'MAP: {values[\"MAP\"]:.6f} ',\n",
    "          f'NDCG: {values[\"NDCG\"]:.6f}',\n",
    "          '', sep='\\n')"
   ]
  }
 ],
 "metadata": {
  "kernelspec": {
   "display_name": "learning",
   "language": "python",
   "name": "python3"
  },
  "language_info": {
   "codemirror_mode": {
    "name": "ipython",
    "version": 3
   },
   "file_extension": ".py",
   "mimetype": "text/x-python",
   "name": "python",
   "nbconvert_exporter": "python",
   "pygments_lexer": "ipython3",
   "version": "3.10.9"
  }
 },
 "nbformat": 4,
 "nbformat_minor": 2
}
